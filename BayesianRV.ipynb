{
 "cells": [
  {
   "cell_type": "markdown",
   "metadata": {},
   "source": [
    "# Bayesian Radial Velocity Planet Search"
   ]
  },
  {
   "cell_type": "code",
   "execution_count": null,
   "metadata": {
    "collapsed": false
   },
   "outputs": [],
   "source": [
    "%matplotlib inline\n",
    "import matplotlib.pyplot as plt\n",
    "import numpy as np\n",
    "import pandas as pd\n",
    "import seaborn; seaborn.set() #nice formatting"
   ]
  },
  {
   "cell_type": "markdown",
   "metadata": {},
   "source": [
    "Two sources of equations:\n",
    "\n",
    "- Balan 2009: http://adsabs.harvard.edu/abs/2009MNRAS.394.1936B\n",
    "- Exofit: http://www.star.ucl.ac.uk/~lahav/ExoFitv2.pdf\n",
    "\n",
    "- http://arxiv.org/pdf/1401.6128.pdf"
   ]
  },
  {
   "cell_type": "markdown",
   "metadata": {},
   "source": [
    "Equation for radial velocity:\n",
    "\n",
    "$$\n",
    "v(t_i) = K[ \\sin(f_i + \\omega) + e \\sin(\\omega)]\n",
    "$$\n",
    "\n",
    "$$\n",
    "K = \\frac{m_p}{m_s + m_p} \\frac{2\\pi}{T}\\frac{a \\sin i}{\\sqrt{1 - e^2}}\n",
    "$$\n",
    "\n",
    "The true anomaly $f$ satisfies\n",
    "\n",
    "$$\n",
    "\\cos(f_i) = \\frac{\\cos(E_i) - e}{1 - e\\cos E_i}\n",
    "$$\n",
    "\n",
    "Rearranging this we can write\n",
    "$$\n",
    "f_i = 2 \\cdot{\\rm atan2}\\left(\\sqrt{1 + e}\\sin(E_i/2), \\sqrt{1 - e} \\cos(E_i/2)\\right)\n",
    "$$\n",
    "\n",
    "The eccentric anomaly $E$ satisfies\n",
    "$$\n",
    "M_i = E_i - e\\sin E_i\n",
    "$$\n",
    "\n",
    "and the mean anomaly is\n",
    "$$\n",
    "M_i = \\frac{2\\pi}{T}(t_i + \\tau)\n",
    "$$\n",
    "\n",
    "and $\\tau$ is the time of pericenter passage, which we'll parametrize with the parameter $\\chi = \\tau /  T$"
   ]
  },
  {
   "cell_type": "markdown",
   "metadata": {},
   "source": [
    "Parameters needed to compute the radial velocity:\n",
    "\n",
    "- $T$: orbital period\n",
    "- $K$: amplitude of oscillation\n",
    "- $V$: offset of oscillation\n",
    "- $e$: eccentricity\n",
    "- $\\omega$: longitude of periastron\n",
    "- $\\chi$: dimensionless phase offset\n",
    "\n",
    "Additionally, we will fit a scatter parameter $s$ which accounts for data uncertainties not reflected in the reported errors."
   ]
  },
  {
   "cell_type": "code",
   "execution_count": null,
   "metadata": {
    "collapsed": true
   },
   "outputs": [],
   "source": [
    "from scipy import optimize\n",
    "\n",
    "@np.vectorize\n",
    "def compute_E(M, e):\n",
    "    \"\"\"Solve Kepler's eqns for eccentric anomaly\"\"\"\n",
    "    f = lambda E, M=M, e=e: E - e * np.sin(E) - M\n",
    "    return optimize.brentq(f, 0, 2 * np.pi)\n",
    "\n",
    "\n",
    "def radial_velocity(t, theta):\n",
    "    \"\"\"Compute radial velocity given orbital parameters\"\"\"\n",
    "    T, e, K, V, omega, chi = theta[:6]\n",
    "    \n",
    "    # compute mean anomaly\n",
    "    M = 2 * np.pi * ((t / T + chi) % 1)\n",
    "    \n",
    "    # solve for eccentric anomaly\n",
    "    E = compute_E(M, e)\n",
    "    \n",
    "    # compute true anomaly\n",
    "    f = 2 * np.arctan2(np.sqrt(1 + e) * np.sin(E / 2),\n",
    "                       np.sqrt(1 - e) * np.cos(E / 2))\n",
    "    \n",
    "    # compute velocity\n",
    "    return V - K * (np.sin(f + omega) + e * np.sin(omega))"
   ]
  },
  {
   "cell_type": "markdown",
   "metadata": {},
   "source": [
    "Visualize this with IPython interact, to make sure the results make sense:"
   ]
  },
  {
   "cell_type": "code",
   "execution_count": null,
   "metadata": {
    "collapsed": false
   },
   "outputs": [],
   "source": [
    "from ipywidgets import interact\n",
    "\n",
    "def plot_RV(T, e, K, V, omega, chi):\n",
    "    t = np.linspace(0, 5, 200)\n",
    "    theta = [T, e, K, V, omega, chi]\n",
    "    plt.plot(t, radial_velocity(t, theta))\n",
    "    \n",
    "interact(plot_RV,\n",
    "         T=(0, 5.), K=(0, 2000.), V=(-2000., 2000.),\n",
    "         e=(0, 1.), omega=(0, 2 * np.pi), chi=(0, 1.));"
   ]
  },
  {
   "cell_type": "code",
   "execution_count": null,
   "metadata": {
    "collapsed": false
   },
   "outputs": [],
   "source": [
    "theta_names = ['T', 'e', 'K', 'V', 'omega', 'chi', 's']\n",
    "theta_sim = [700, 0.38, 60, 12, 3.10, 0.67, 1]\n",
    "Nobs = 50\n",
    "\n",
    "rng = np.random.RandomState(0)\n",
    "t_sim = 1400 + 600 * rng.rand(Nobs)\n",
    "err_sim = 1 + rng.rand(Nobs)\n",
    "rv_sim = radial_velocity(t_sim, theta_sim) + err_sim * rng.randn(Nobs)\n",
    "\n",
    "plt.errorbar(t_sim, rv_sim, err_sim, fmt='.k');\n",
    "xlim = plt.xlim()\n",
    "t_fit = np.linspace(xlim[0], xlim[1], 500)\n",
    "plt.plot(t_fit, radial_velocity(t_fit, theta_sim), color='gray');"
   ]
  },
  {
   "cell_type": "markdown",
   "metadata": {},
   "source": [
    "## Bayesian Fit"
   ]
  },
  {
   "cell_type": "code",
   "execution_count": null,
   "metadata": {
    "collapsed": false
   },
   "outputs": [],
   "source": [
    "theta_min = np.array([0.2, 0, 0.01, -2000, 0, 0, 0.01])\n",
    "theta_max = np.array([2000, 1, 2000, 2000, 2 * np.pi, 1, 100])\n",
    "\n",
    "def log_prior(theta):\n",
    "    if np.any(theta < theta_min) or np.any(theta > theta_max):\n",
    "        return -np.inf # log(0)\n",
    "    \n",
    "    # Jeffreys Prior on T, K, and s\n",
    "    return -np.sum(np.log(theta[[0, 1, 6]]))\n",
    "\n",
    "def log_likelihood(theta, t, rv, rv_err):\n",
    "    s = theta[6]\n",
    "    sq_err = rv_err ** 2 + s ** 2\n",
    "    rv_model = radial_velocity(t, theta)\n",
    "    return -0.5 * np.sum(np.log(sq_err) + (rv - rv_model) ** 2 / sq_err)\n",
    "\n",
    "def log_posterior(theta, t, rv, rv_err):\n",
    "    ln_prior = log_prior(theta)\n",
    "    if np.isinf(ln_prior):\n",
    "        return ln_prior\n",
    "    else:\n",
    "        return ln_prior + log_likelihood(theta, t, rv, rv_err)        "
   ]
  },
  {
   "cell_type": "code",
   "execution_count": null,
   "metadata": {
    "collapsed": false
   },
   "outputs": [],
   "source": [
    "import emcee\n",
    "\n",
    "ndim = len(theta_sim)  # number of parameters in the model\n",
    "nwalkers = 50  # number of MCMC walkers\n",
    "\n",
    "# start with a tight distribution of theta around the initial guess\n",
    "rng = np.random.RandomState(42)\n",
    "theta_guess = 0.5 * (theta_min + theta_max)\n",
    "theta_range = (theta_max - theta_min)\n",
    "starting_guesses = theta_guess + 0.05 * theta_range * rng.randn(nwalkers, ndim)\n",
    "\n",
    "# create the sampler; fix the random state for replicability\n",
    "sampler = emcee.EnsembleSampler(nwalkers, ndim, log_posterior, args=(t_sim, rv_sim, err_sim))\n",
    "sampler.random_state = rng\n",
    "\n",
    "# time and run the MCMC\n",
    "%time pos, prob, state = sampler.run_mcmc(starting_guesses, 1000)"
   ]
  },
  {
   "cell_type": "code",
   "execution_count": null,
   "metadata": {
    "collapsed": false
   },
   "outputs": [],
   "source": [
    "def plot_chains(sampler):\n",
    "    fig, ax = plt.subplots(7, figsize=(8, 10), sharex=True)\n",
    "    for i in range(7):\n",
    "        ax[i].plot(sampler.chain[:, :, i].T, '-k', alpha=0.2);\n",
    "        ax[i].set_ylabel(theta_names[i])\n",
    "\n",
    "plot_chains(sampler)"
   ]
  },
  {
   "cell_type": "markdown",
   "metadata": {},
   "source": [
    "Yikes! it's all over the place! The issue here is that our initialization was haphazard; we can do much better if we more carefully initialize our function.\n",
    "\n",
    "First, let's use a Lomb-Scargle periodogram to find a suitable guess at the period.\n",
    "The [gatspy](http://www.astroml.org/gatspy/) package has a nice implementation:"
   ]
  },
  {
   "cell_type": "code",
   "execution_count": null,
   "metadata": {
    "collapsed": false
   },
   "outputs": [],
   "source": [
    "from gatspy.periodic import LombScargleFast\n",
    "model = LombScargleFast()\n",
    "model.optimizer.set(period_range=(1, 2000), quiet=True)\n",
    "model.fit(t_sim, rv_sim, err_sim)\n",
    "model.best_period"
   ]
  },
  {
   "cell_type": "code",
   "execution_count": null,
   "metadata": {
    "collapsed": false
   },
   "outputs": [],
   "source": [
    "# starting guess: some data-driven, some just in middle of prior range\n",
    "rv_range = 0.5 * (np.max(rv_sim) - np.min(rv_sim))\n",
    "rv_center = np.mean(rv_sim)\n",
    "theta_guess = [model.best_period, 0.5, rv_range, rv_center, 3.14, 0.5, err_sim.mean()]"
   ]
  },
  {
   "cell_type": "code",
   "execution_count": null,
   "metadata": {
    "collapsed": true
   },
   "outputs": [],
   "source": [
    "sampler.reset()\n",
    "start = theta_guess * (1 + 0.01 * rng.randn(nwalkers, ndim))\n",
    "pos, prob, state = sampler.run_mcmc(start, 1000)"
   ]
  },
  {
   "cell_type": "code",
   "execution_count": null,
   "metadata": {
    "collapsed": false
   },
   "outputs": [],
   "source": [
    "plot_chains(sampler)"
   ]
  },
  {
   "cell_type": "markdown",
   "metadata": {},
   "source": [
    "Much more reasonable! The trace appears to have stabilized by the end of this, so let's reset and get a clean 1000 samples from the stabilie:"
   ]
  },
  {
   "cell_type": "code",
   "execution_count": null,
   "metadata": {
    "collapsed": true
   },
   "outputs": [],
   "source": [
    "sampler.reset()\n",
    "pos, prob, state = sampler.run_mcmc(pos, 1000)"
   ]
  },
  {
   "cell_type": "code",
   "execution_count": null,
   "metadata": {
    "collapsed": false
   },
   "outputs": [],
   "source": [
    "import corner\n",
    "corner.corner(sampler.flatchain, labels=theta_names, truths=theta_sim);"
   ]
  },
  {
   "cell_type": "markdown",
   "metadata": {},
   "source": [
    "We can look at the results by sampling from the posterior:"
   ]
  },
  {
   "cell_type": "code",
   "execution_count": null,
   "metadata": {
    "collapsed": false
   },
   "outputs": [],
   "source": [
    "plt.errorbar(t_sim, rv_sim, err_sim, fmt='.k')\n",
    "ylim = plt.ylim()\n",
    "rng = np.random.RandomState(42)\n",
    "\n",
    "for i in rng.choice(sampler.flatchain.shape[0], 200):\n",
    "    rv_fit = radial_velocity(t_fit, sampler.flatchain[i])\n",
    "    plt.plot(t_fit, rv_fit, '-', alpha=0.01)\n",
    "plt.ylim(ylim);"
   ]
  },
  {
   "cell_type": "markdown",
   "metadata": {},
   "source": [
    "Let's pull-out the period and eccentricity, marginalizing over all other parameters:"
   ]
  },
  {
   "cell_type": "code",
   "execution_count": null,
   "metadata": {
    "collapsed": false
   },
   "outputs": [],
   "source": [
    "import corner\n",
    "corner.corner(sampler.flatchain[:, :2], \n",
    "              labels=theta_names[:2],\n",
    "              truths=theta_sim[:2]);"
   ]
  },
  {
   "cell_type": "markdown",
   "metadata": {},
   "source": [
    "We have found a marginalized posterior distribution for the period and eccentricity which contains our our input parameters."
   ]
  }
 ],
 "metadata": {
  "kernelspec": {
   "display_name": "Python 3.5",
   "language": "",
   "name": "python3.5"
  },
  "language_info": {
   "codemirror_mode": {
    "name": "ipython",
    "version": 3
   },
   "file_extension": ".py",
   "mimetype": "text/x-python",
   "name": "python",
   "nbconvert_exporter": "python",
   "pygments_lexer": "ipython3",
   "version": "3.5.1"
  }
 },
 "nbformat": 4,
 "nbformat_minor": 0
}
