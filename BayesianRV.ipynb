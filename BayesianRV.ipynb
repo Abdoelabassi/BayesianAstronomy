{
 "cells": [
  {
   "cell_type": "code",
   "execution_count": null,
   "metadata": {
    "collapsed": false
   },
   "outputs": [],
   "source": [
    "%matplotlib inline\n",
    "import matplotlib.pyplot as plt\n",
    "import numpy as np\n",
    "import pandas as pd\n",
    "import seaborn; seaborn.set() #nice formatting"
   ]
  },
  {
   "cell_type": "markdown",
   "metadata": {},
   "source": [
    "\n",
    "Balan 2009: http://adsabs.harvard.edu/abs/2009MNRAS.394.1936B\n",
    "Exofit: http://www.star.ucl.ac.uk/~lahav/ExoFitv2.pdf"
   ]
  },
  {
   "cell_type": "markdown",
   "metadata": {},
   "source": [
    "Equation for radial velocity:\n",
    "\n",
    "$$\n",
    "v(t_i) = K[ \\sin(f_i + \\omega) + e \\sin(\\omega)]\n",
    "$$\n",
    "\n",
    "$$\n",
    "K = \\frac{m_p}{m_s + m_p} \\frac{2\\pi}{T}\\frac{a \\sin i}{\\sqrt{1 - e^2}}\n",
    "$$\n",
    "\n",
    "The true anomaly $f$ satisfies\n",
    "\n",
    "$$\n",
    "\\cos(f_i) = \\frac{\\cos(E_i) - e}{1 - e\\cos E_i}\n",
    "$$\n",
    "\n",
    "Rearranging this we can write\n",
    "$$\n",
    "f_i = 2 \\arg\\left(\\sqrt{1 + e}\\sin(E_i/2), \\sqrt{1 - e} \\cos(E_i/2)\\right)\n",
    "$$\n",
    "\n",
    "The eccentric anomaly $E$ satisfies\n",
    "$$\n",
    "M = E - e\\sin E\n",
    "$$\n",
    "\n",
    "and the mean anomaly is\n",
    "$$\n",
    "M = \\frac{2\\pi}{T}(t + \\tau)\n",
    "$$\n",
    "\n",
    "and $\\tau$ is the time of pericenter passage, which we'll parametrize with the parameter $\\chi = \\tau /  T$"
   ]
  },
  {
   "cell_type": "markdown",
   "metadata": {},
   "source": [
    "Parameters in our model:\n",
    "\n",
    "- $T$: orbital period\n",
    "- $K$: amplitude of oscillation\n",
    "- $V$: offset of oscillation\n",
    "- $e$: eccentricity\n",
    "- $\\omega$: longitude of periastron\n",
    "- $\\chi$: dimensionless phase offset\n",
    "- $s$: error term"
   ]
  },
  {
   "cell_type": "code",
   "execution_count": null,
   "metadata": {
    "collapsed": true
   },
   "outputs": [],
   "source": [
    "from scipy import optimize\n",
    "\n",
    "\n",
    "@np.vectorize\n",
    "def compute_E(M, e):\n",
    "    \"\"\"Solve Kepler's eqns for eccentric anomaly\"\"\"\n",
    "    f = lambda E, M=M, e=e: E - e * np.sin(E) - M\n",
    "    return optimize.brentq(f, 0, 2 * np.pi)\n",
    "\n",
    "\n",
    "def radial_velocity(theta, t):\n",
    "    \"\"\"Compute radial velocity given orbital parameters\"\"\"\n",
    "    T, K, V, e, omega, chi = theta[:6]\n",
    "    \n",
    "    # compute mean anomaly\n",
    "    M = 2 * np.pi * ((t / T + chi) % 1)\n",
    "    \n",
    "    # solve for eccentric anomaly\n",
    "    E = compute_E(M, e)\n",
    "    \n",
    "    # compute true anomaly\n",
    "    f = 2 * np.arctan2(np.sqrt(1 + e) * np.sin(E / 2),\n",
    "                       np.sqrt(1 - e) * np.cos(E / 2))\n",
    "    \n",
    "    # compute velocity\n",
    "    return V - K * (np.sin(f + omega) + e * np.sin(omega))"
   ]
  },
  {
   "cell_type": "markdown",
   "metadata": {},
   "source": [
    "Visualize this with IPython interact, to make sure the results make sense:"
   ]
  },
  {
   "cell_type": "code",
   "execution_count": null,
   "metadata": {
    "collapsed": false
   },
   "outputs": [],
   "source": [
    "from ipywidgets import interact\n",
    "\n",
    "def plot_RV(T, K, V, e, omega, chi):\n",
    "    t = np.linspace(0, 5, 200)\n",
    "    theta = [T, K, V, e, omega, chi]\n",
    "    plt.plot(t, radial_velocity(theta, t))\n",
    "    \n",
    "interact(plot_RV,\n",
    "         T=(0, 5.), K=(0, 2000.), V=(-2000., 2000.),\n",
    "         e=(0, 1.), omega=(0, 2 * np.pi), chi=(0, 1.));"
   ]
  },
  {
   "cell_type": "code",
   "execution_count": null,
   "metadata": {
    "collapsed": false
   },
   "outputs": [],
   "source": [
    "theta = [700, 60, 12, 0.38, 3.10, 0.67]\n",
    "Nobs = 50\n",
    "\n",
    "rng = np.random.RandomState(0)\n",
    "t_sim = 1400 + 600 * rng.rand(Nobs)\n",
    "err_sim = 1 + rng.rand(Nobs)\n",
    "rv_sim = radial_velocity(theta, t_sim) + err_sim * rng.randn(Nobs)\n",
    "\n",
    "plt.errorbar(t_sim, rv_sim, err_sim, fmt='.k');\n",
    "xlim = plt.xlim()\n",
    "t_fit = np.linspace(xlim[0], xlim[1], 500)\n",
    "plt.plot(t_fit, radial_velocity(theta, t_fit), color='gray');"
   ]
  }
 ],
 "metadata": {
  "kernelspec": {
   "display_name": "Python 3.5",
   "language": "",
   "name": "python3.5"
  },
  "language_info": {
   "codemirror_mode": {
    "name": "ipython",
    "version": 3
   },
   "file_extension": ".py",
   "mimetype": "text/x-python",
   "name": "python",
   "nbconvert_exporter": "python",
   "pygments_lexer": "ipython3",
   "version": "3.5.1"
  }
 },
 "nbformat": 4,
 "nbformat_minor": 0
}
