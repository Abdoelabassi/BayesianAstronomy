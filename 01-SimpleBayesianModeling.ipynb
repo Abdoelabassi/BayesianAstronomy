{
 "cells": [
  {
   "cell_type": "markdown",
   "metadata": {},
   "source": [
    "# Simple Bayesian Modeling\n",
    "\n",
    "Here we'll apply what we learned in the previous section, and use Python to fit some Bayesian models.\n",
    "We'll start with the classic model fitting problem: **Fitting a line to data**.\n",
    "\n",
    "We'll begin with some standard Python imports:"
   ]
  },
  {
   "cell_type": "code",
   "execution_count": null,
   "metadata": {
    "collapsed": false
   },
   "outputs": [],
   "source": [
    "%matplotlib inline\n",
    "import matplotlib.pyplot as plt\n",
    "import numpy as np\n",
    "import seaborn; seaborn.set() # for plot formatting"
   ]
  },
  {
   "cell_type": "markdown",
   "metadata": {},
   "source": [
    "## The Data\n",
    "\n",
    "For the sake of this demonstration, let's start by creating some data that we will fit with a straight line:"
   ]
  },
  {
   "cell_type": "code",
   "execution_count": null,
   "metadata": {
    "collapsed": false
   },
   "outputs": [],
   "source": [
    "np.random.seed(42)\n",
    "theta_true = (25, 0.5)\n",
    "xdata = 100 * np.random.rand(20)\n",
    "ydata = theta_true[0] + theta_true[1] * xdata\n",
    "\n",
    "# add scatter to points\n",
    "sigma = 5\n",
    "ydata += sigma * np.random.randn(20)\n",
    "\n",
    "plt.errorbar(xdata, ydata, sigma, fmt='o');"
   ]
  },
  {
   "cell_type": "markdown",
   "metadata": {},
   "source": [
    "## The Model\n",
    "\n",
    "Next we need to specify a model. We're fitting a straight line to data, so we'll need a slope and an intercept; i.e.\n",
    "\n",
    "$$\n",
    "y = mx + b\n",
    "$$\n",
    "\n",
    "where our paramteter vector might be \n",
    "\n",
    "$$\n",
    "\\theta = [b, m]\n",
    "$$\n",
    "\n",
    "But this is only half the picture: what we mean by a \"model\" in a Bayesian sense is not only this expected value $y(x;\\theta)$, but a **probability distribution** for our data.\n",
    "That is, we need an expression to compute the likelihood $P(D\\mid\\theta)$ for our data as a function of the parameters $\\theta$."
   ]
  },
  {
   "cell_type": "markdown",
   "metadata": {},
   "source": [
    "Here we are given data with simple errorbars, which imply that the probability for any *single* data point is a normal distribution about the true value. That is,\n",
    "\n",
    "$$\n",
    "y_i \\sim \\mathcal{N}(y(x_i;\\theta), \\sigma)\n",
    "$$\n",
    "\n",
    "or, in other words,\n",
    "\n",
    "$$\n",
    "P(x_i,y_i\\mid\\theta) = \\frac{1}{\\sqrt{2\\pi\\sigma^2}} \\exp\\left(\\frac{-\\left[y_i - y(x_i;\\theta)\\right]^2}{2\\sigma^2}\\right)\n",
    "$$\n",
    "\n",
    "where $\\sigma$ is the (known) measurement error indicated by the errorbars.\n",
    "\n",
    "Assuming all the points are independent, we can find the full likelihood by multiplying the individual likelihoods together:\n",
    "\n",
    "$$\n",
    "P(D\\mid\\theta) = \\prod_{i=1}^N P(x_i,y_i\\mid\\theta)\n",
    "$$\n",
    "\n",
    "For convenience (and also for numerical accuracy) this is often expressed in terms of the log-likelihood:\n",
    "\n",
    "$$\n",
    "\\log P(D\\mid\\theta) = -\\frac{1}{2}\\sum_{i=1}^N\\left(\\log(2\\pi\\sigma^2) + \\frac{\\left[y_i - y(x_i;\\theta)\\right]^2}{\\sigma^2}\\right)\n",
    "$$"
   ]
  },
  {
   "cell_type": "markdown",
   "metadata": {},
   "source": [
    "### Breakout\n",
    "\n",
    "1. Write a Python function which computes the log-likelihood given a parameter vector $\\theta$, an error $\\sigma$, and an array of $x$ and $y$ values\n",
    "\n",
    "2. Use tools in [``scipy.optimize``](http://docs.scipy.org/doc/scipy/reference/optimize.html) to maximize this likelihood (i.e. minimize the negative log-likelihood). How close is this result to the input ``theta_true`` above?"
   ]
  },
  {
   "cell_type": "markdown",
   "metadata": {},
   "source": [
    "#### Solution:"
   ]
  },
  {
   "cell_type": "code",
   "execution_count": null,
   "metadata": {
    "collapsed": true
   },
   "outputs": [],
   "source": [
    "def log_likelihood(theta, x, y, sigma):\n",
    "    y_model = theta[0] + theta[1] * x\n",
    "    return -0.5 * np.sum(np.log(2 * np.pi * sigma ** 2) +\n",
    "                         (y - y_model) ** 2 / sigma ** 2)"
   ]
  },
  {
   "cell_type": "code",
   "execution_count": null,
   "metadata": {
    "collapsed": false
   },
   "outputs": [],
   "source": [
    "from scipy import optimize\n",
    "\n",
    "def minfunc(theta):\n",
    "    return -log_likelihood(theta, xdata, ydata, sigma)\n",
    "\n",
    "result = optimize.minimize(minfunc, x0=[0, 0])\n",
    "print(\"result:\", result.x)\n",
    "print(\"input\", theta_true)"
   ]
  },
  {
   "cell_type": "markdown",
   "metadata": {},
   "source": [
    "We get a result very close to the input. Of course this result is not very meaningful without uncertainties... these can be computed in a frequentist paradigm via confidence intervals, but we won't go into that here."
   ]
  },
  {
   "cell_type": "markdown",
   "metadata": {},
   "source": [
    "## The Prior\n",
    "\n",
    "We have computed the likelihood, now we need to think about the prior $P(\\theta\\mid I)$.\n",
    "\n",
    "This is where Bayesianism gets a bit controversial... what can we actually say about the slope and intercept before we fit our data?\n",
    "\n",
    "There are a couple approaches to choosing priors that you'll come across in practice:"
   ]
  },
  {
   "cell_type": "markdown",
   "metadata": {},
   "source": [
    "### 0. Conjugate Priors\n",
    "\n",
    "In the days before computational power caught up with the aspirations of Bayesians, it was important to choose priors which would make the posterior analytically computable. A [conjugate prior](https://en.wikipedia.org/wiki/Conjugate_prior) is a prior which, due to its mathematical relation to the likelihood, makes the result analytically computable.\n",
    "The problem is that the form of the conjugate prior is very rarely defensible on any grounds other than computational convenience, and so this is **almost never a good choice**.\n",
    "You'll still occasionally hear people attack Bayesian approaches because of the use of conjugate priors: these people's arguments are decades outdated, and you should treat them appropriately."
   ]
  },
  {
   "cell_type": "markdown",
   "metadata": {},
   "source": [
    "### 1. Empirical Priors\n",
    "\n",
    "Empirical Priors are priors which are actually posteriors from previous studies of the same phenomenon. For example, it's common in Supernova cosmology studies to use the WMAP results as a prior: that is, we actually plug-in a *real result* and use our new data to improve on that. This situation is where Bayesian approaches really shine.\n",
    "\n",
    "For our linear fit, you might imagine that our $x, y$ data is a more accurate version of a previous experiment, where we've found that the intercept is $\\theta_0 = 50 \\pm 30$ and the slope is $\\theta_1 = 1.0 \\pm 0.5$.\n",
    "In this case, we'd encode this prior knowledge in the prior distribution itself."
   ]
  },
  {
   "cell_type": "markdown",
   "metadata": {},
   "source": [
    "### 2. Flat Priors\n",
    "\n",
    "If you don't have an empirical prior, you might be tempted to simply use a *flat prior* – i.e. a prior that is constant between two reasonable limits (i.e. equal probability slopes from -1000 to +1000).\n",
    "\n",
    "The problem is that flat priors are not always non-informative! For example, a flat prior on the slope will effectively give a higher weight to larger slopes.\n",
    "We can see this straightforwardly by plotting regularly-spaced slopes between 0 and 20:"
   ]
  },
  {
   "cell_type": "code",
   "execution_count": null,
   "metadata": {
    "collapsed": false
   },
   "outputs": [],
   "source": [
    "x = np.linspace(-1, 1)\n",
    "for slope in np.linspace(0, 20, 100):\n",
    "    plt.plot(x, slope * x, '-k', linewidth=1)\n",
    "plt.axis([-1, 1, -1, 1], aspect='equal');"
   ]
  },
  {
   "cell_type": "markdown",
   "metadata": {},
   "source": [
    "The density of the lines is a proxy for the probability of those slopes with a flat prior.\n",
    "This is an important point to realize: **flat priors are not necessarily minimally informative**."
   ]
  },
  {
   "cell_type": "markdown",
   "metadata": {},
   "source": [
    "### 3. Non-informative Priors\n",
    "\n",
    "What we *really* want in cases where no empirical prior is available is a **non-informative prior**. Among other things, such a prior should not depend on the units of the data.\n",
    "Perhaps the most principled approach to choosing non-informative priors was the *principle of maximum entropy* advocated by Jaynes ([book](http://omega.albany.edu:8008/JaynesBook.html)).\n",
    "\n",
    "Similar in spirit is the commonly-used [Jeffreys Prior](https://en.wikipedia.org/wiki/Jeffreys_prior), which in many cases of interest amounts to a \"scale invariant\" prior: a flat prior on the logarithm of the parameter.\n",
    "\n",
    "In the case of the linear slope, we often want a prior which does not artificially over-weight large slopes: there are a couple possible approaches to this (see http://arxiv.org/abs/1411.5018 for some discussion). For our situation, we might use a flat prior on the angle the line makes with the x-axis, which gives\n",
    "\n",
    "$$\n",
    "P(m) \\propto (1 + m^2)^{-3/2}\n",
    "$$\n",
    "\n",
    "For lack of a better term, I like to call this a \"symmetric prior\" on the slope (because it's the same whether we're fitting $y = mx + b$ or $x = m^\\prime y + b^\\prime$)."
   ]
  },
  {
   "cell_type": "markdown",
   "metadata": {},
   "source": [
    "### Implementation\n",
    "\n",
    "Let's define two python functions to compute the options for our prior: we'll use both a (log) flat prior and a (log) symmetric prior.\n",
    "In general, we need not worry about the normalization of the prior or the likelihood, which makes our lives easier:"
   ]
  },
  {
   "cell_type": "code",
   "execution_count": null,
   "metadata": {
    "collapsed": true
   },
   "outputs": [],
   "source": [
    "def log_flat_prior(theta):\n",
    "    if np.all(np.abs(theta) < 1000):\n",
    "        return 0\n",
    "    else:\n",
    "        return -np.inf  # log(0)\n",
    "    \n",
    "def log_symmetric_prior(theta):\n",
    "    if np.abs(theta[0]) < 1000:\n",
    "        return -1.5 * np.log(1 + theta[1] ** 2)\n",
    "    else:\n",
    "        return -np.inf  # log(0)"
   ]
  },
  {
   "cell_type": "markdown",
   "metadata": {},
   "source": [
    "With these defined, we now have what we need to compute the log posterior as a function of the model parameters.\n",
    "You might be tempted to maximize this posterior in the same way that we did with the likelihood above, but this is not a Bayesian result! The Bayesian result is a (possibly marginalized) posterior probability for our parameters.\n",
    "The mode of a probability distribution is perhaps slightly informative, but it is in no way a Bayesian result.\n",
    "\n",
    "Let's take a few minutes now to plot the posterior probability as a function of the slope and intercept."
   ]
  },
  {
   "cell_type": "markdown",
   "metadata": {},
   "source": [
    "## Breakout\n",
    "\n",
    "1. Using matplotlib, plot the posterior probability distribution for the slope and intercept, once for each prior. I would suggest using ``plt.contourf()`` or ``plt.pcolor()``. How different are the distributions?\n",
    "\n",
    "2. If you finish this quickly, try adding 1-sigma and 2-sigma contours to your plot, keeping in mind that the probabilities are not normalized! You can add them to your plot with ``plt.contour()``."
   ]
  },
  {
   "cell_type": "markdown",
   "metadata": {},
   "source": [
    "### Solution"
   ]
  },
  {
   "cell_type": "code",
   "execution_count": null,
   "metadata": {
    "collapsed": false
   },
   "outputs": [],
   "source": [
    "slope_range = np.linspace(0.3, 0.7)\n",
    "intercept_range = np.linspace(15, 35)\n",
    "\n",
    "log_P1 = [[log_likelihood([b, m], xdata, ydata, sigma) + log_flat_prior([b, m])\n",
    "           for m in slope_range] for b in intercept_range]\n",
    "log_P2 = [[log_likelihood([b, m], xdata, ydata, sigma) + log_symmetric_prior([b, m])\n",
    "           for m in slope_range] for b in intercept_range]\n",
    "\n",
    "P1 = np.exp(log_P1 - np.max(log_P1))\n",
    "P2 = np.exp(log_P2 - np.max(log_P2))"
   ]
  },
  {
   "cell_type": "code",
   "execution_count": null,
   "metadata": {
    "collapsed": true
   },
   "outputs": [],
   "source": [
    "def contour_levels(grid):\n",
    "    \"\"\"Compute 1, 2, 3-sigma contour levels for a gridded 2D posterior\"\"\"\n",
    "    sorted_ = np.sort(grid.ravel())[::-1]\n",
    "    pct = np.cumsum(sorted_) / np.sum(sorted_)\n",
    "    cutoffs = np.searchsorted(pct, np.array([0.68, 0.95, 0.997]) ** 2)\n",
    "    return sorted_[cutoffs]"
   ]
  },
  {
   "cell_type": "code",
   "execution_count": null,
   "metadata": {
    "collapsed": false
   },
   "outputs": [],
   "source": [
    "fig, ax = plt.subplots(1, 2, figsize=(16, 6),\n",
    "                       sharex=True, sharey=True)\n",
    "ax[0].contourf(slope_range, intercept_range, P1, 100, cmap='Blues')\n",
    "ax[0].contour(slope_range, intercept_range, P1, contour_levels(P1), colors='black')\n",
    "ax[0].set_title('Flat Prior')\n",
    "\n",
    "ax[1].contourf(slope_range, intercept_range, P2, 100, cmap='Blues')\n",
    "ax[1].contour(slope_range, intercept_range, P2, contour_levels(P1), colors='black')\n",
    "ax[1].set_title('Symmetric Prior')\n",
    "\n",
    "for axi in ax:\n",
    "    axi.grid('on', linestyle=':', color='gray', alpha=0.5)\n",
    "    axi.set_axisbelow(False)\n",
    "    axi.set_xlabel('slope')\n",
    "    axi.set_ylabel('intercept')"
   ]
  },
  {
   "cell_type": "markdown",
   "metadata": {},
   "source": [
    "We see that the form of the prior here makes very little difference. In general, this often ends up being the case: for all the worrying about the effect of the prior, when you have enough data to constrain your model well, the prior has very little effect."
   ]
  }
 ],
 "metadata": {
  "kernelspec": {
   "display_name": "Python 3.5",
   "language": "",
   "name": "python3.5"
  },
  "language_info": {
   "codemirror_mode": {
    "name": "ipython",
    "version": 3
   },
   "file_extension": ".py",
   "mimetype": "text/x-python",
   "name": "python",
   "nbconvert_exporter": "python",
   "pygments_lexer": "ipython3",
   "version": "3.5.1"
  }
 },
 "nbformat": 4,
 "nbformat_minor": 0
}
